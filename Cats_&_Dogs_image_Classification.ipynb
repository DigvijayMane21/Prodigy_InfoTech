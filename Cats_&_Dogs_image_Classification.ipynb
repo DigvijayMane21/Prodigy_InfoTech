{
  "nbformat": 4,
  "nbformat_minor": 0,
  "metadata": {
    "colab": {
      "provenance": []
    },
    "kernelspec": {
      "name": "python3",
      "display_name": "Python 3"
    },
    "language_info": {
      "name": "python"
    }
  },
  "cells": [
    {
      "cell_type": "code",
      "execution_count": 2,
      "metadata": {
        "colab": {
          "base_uri": "https://localhost:8080/"
        },
        "id": "H5XIaQ8MeZY9",
        "outputId": "1b5a91df-625f-4f5c-b0a7-789383cb1bb0"
      },
      "outputs": [
        {
          "output_type": "stream",
          "name": "stdout",
          "text": [
            "Warning: Your Kaggle API key is readable by other users on this system! To fix this, you can run 'chmod 600 /root/.kaggle/kaggle.json'\n",
            "Downloading cats-and-dogs-image-classification.zip to /content\n",
            " 85% 55.0M/64.4M [00:00<00:00, 66.8MB/s]\n",
            "100% 64.4M/64.4M [00:00<00:00, 67.9MB/s]\n"
          ]
        }
      ],
      "source": [
        "!mkdir -p ~/.kaggle\n",
        "!cp kaggle.json ~/.kaggle/\n",
        "!kaggle datasets download -d samuelcortinhas/cats-and-dogs-image-classification"
      ]
    },
    {
      "cell_type": "code",
      "source": [
        "import zipfile\n",
        "zip = zipfile.ZipFile('/content/cats-and-dogs-image-classification.zip')\n",
        "zip.extractall('\\data')\n",
        "zip.close()"
      ],
      "metadata": {
        "id": "83A99-swekFk"
      },
      "execution_count": 3,
      "outputs": []
    },
    {
      "cell_type": "code",
      "source": [
        "! ls '/content/\\data/test/cats'"
      ],
      "metadata": {
        "colab": {
          "base_uri": "https://localhost:8080/"
        },
        "id": "zzf8zlT8f2V4",
        "outputId": "8a963682-671e-43db-f826-c22ed61cd439"
      },
      "execution_count": 24,
      "outputs": [
        {
          "output_type": "stream",
          "name": "stdout",
          "text": [
            "cat_106.jpg  cat_156.jpg  cat_251.jpg  cat_342.jpg  cat_430.jpg  cat_525.jpg  cat_583.jpg\n",
            "cat_109.jpg  cat_158.jpg  cat_255.jpg  cat_355.jpg  cat_433.jpg  cat_528.jpg  cat_585.jpg\n",
            "cat_113.jpg  cat_162.jpg  cat_268.jpg  cat_358.jpg  cat_446.jpg  cat_538.jpg  cat_586.jpg\n",
            "cat_114.jpg  cat_18.jpg   cat_279.jpg  cat_371.jpg  cat_464.jpg  cat_542.jpg  cat_587.jpg\n",
            "cat_116.jpg  cat_190.jpg  cat_281.jpg  cat_375.jpg  cat_468.jpg  cat_545.jpg  cat_595.jpg\n",
            "cat_118.jpg  cat_1.jpg\t  cat_290.jpg  cat_384.jpg  cat_473.jpg  cat_551.jpg  cat_5.jpg\n",
            "cat_119.jpg  cat_203.jpg  cat_306.jpg  cat_395.jpg  cat_496.jpg  cat_564.jpg  cat_60.jpg\n",
            "cat_124.jpg  cat_223.jpg  cat_313.jpg  cat_417.jpg  cat_504.jpg  cat_56.jpg   cat_88.jpg\n",
            "cat_140.jpg  cat_234.jpg  cat_332.jpg  cat_418.jpg  cat_520.jpg  cat_574.jpg  cat_94.jpg\n",
            "cat_147.jpg  cat_244.jpg  cat_341.jpg  cat_422.jpg  cat_523.jpg  cat_575.jpg  cat_96.jpg\n"
          ]
        }
      ]
    },
    {
      "cell_type": "code",
      "source": [
        "! ls '/content/\\data/test/dogs'"
      ],
      "metadata": {
        "colab": {
          "base_uri": "https://localhost:8080/"
        },
        "id": "B3a_R4_7gLy3",
        "outputId": "26dc6bbf-df16-4792-95e9-dff01ea868a3"
      },
      "execution_count": 25,
      "outputs": [
        {
          "output_type": "stream",
          "name": "stdout",
          "text": [
            "dog_114.jpg  dog_168.jpg  dog_219.jpg  dog_302.jpg  dog_377.jpg  dog_462.jpg  dog_522.jpg\n",
            "dog_123.jpg  dog_173.jpg  dog_227.jpg  dog_303.jpg  dog_380.jpg  dog_464.jpg  dog_528.jpg\n",
            "dog_124.jpg  dog_177.jpg  dog_229.jpg  dog_313.jpg  dog_398.jpg  dog_472.jpg  dog_534.jpg\n",
            "dog_130.jpg  dog_181.jpg  dog_236.jpg  dog_327.jpg  dog_415.jpg  dog_476.jpg  dog_536.jpg\n",
            "dog_141.jpg  dog_191.jpg  dog_237.jpg  dog_344.jpg  dog_421.jpg  dog_482.jpg  dog_551.jpg\n",
            "dog_142.jpg  dog_194.jpg  dog_240.jpg  dog_354.jpg  dog_43.jpg\t dog_517.jpg  dog_563.jpg\n",
            "dog_147.jpg  dog_196.jpg  dog_244.jpg  dog_355.jpg  dog_442.jpg  dog_518.jpg  dog_59.jpg\n",
            "dog_150.jpg  dog_197.jpg  dog_258.jpg  dog_360.jpg  dog_443.jpg  dog_519.jpg  dog_68.jpg\n",
            "dog_155.jpg  dog_211.jpg  dog_283.jpg  dog_364.jpg  dog_44.jpg\t dog_520.jpg  dog_75.jpg\n",
            "dog_159.jpg  dog_213.jpg  dog_28.jpg   dog_369.jpg  dog_461.jpg  dog_521.jpg  dog_89.jpg\n"
          ]
        }
      ]
    },
    {
      "cell_type": "code",
      "source": [
        "import os\n",
        "import numpy as np\n",
        "from skimage import io, color, transform\n",
        "from sklearn.model_selection import train_test_split\n",
        "from sklearn.svm import SVC\n",
        "from sklearn.metrics import accuracy_score\n",
        "from sklearn import preprocessing\n",
        "from sklearn.pipeline import make_pipeline"
      ],
      "metadata": {
        "id": "EGtAAQsyhoCh"
      },
      "execution_count": 12,
      "outputs": []
    },
    {
      "cell_type": "code",
      "source": [
        "# Function to load and preprocess images\n",
        "def load_and_preprocess_images(folder_path, label):\n",
        "    images = []\n",
        "    labels = []\n",
        "    for filename in os.listdir(folder_path):\n",
        "        img_path = os.path.join(folder_path, filename)\n",
        "        img = io.imread(img_path)\n",
        "        img = transform.resize(img, (100, 100), mode='constant')  # Resize images to a consistent size\n",
        "        img = color.rgb2gray(img)  # Convert images to grayscale\n",
        "        images.append(img.flatten())\n",
        "        labels.append(label)\n",
        "    return images, labels"
      ],
      "metadata": {
        "id": "wtbTOF3lgSkU"
      },
      "execution_count": 9,
      "outputs": []
    },
    {
      "cell_type": "code",
      "source": [
        "# Load and preprocess cat images\n",
        "cat_folder = '/content/\\data/test/cats'\n",
        "cat_images, cat_labels = load_and_preprocess_images(cat_folder, 0)"
      ],
      "metadata": {
        "id": "U4JLF7n8gYU9"
      },
      "execution_count": 26,
      "outputs": []
    },
    {
      "cell_type": "code",
      "source": [
        "# Load and preprocess dog images\n",
        "dog_folder = '/content/\\data/test/dogs'\n",
        "dog_images, dog_labels = load_and_preprocess_images(dog_folder, 1)"
      ],
      "metadata": {
        "id": "ebdwnZ5hiG7I"
      },
      "execution_count": 38,
      "outputs": []
    },
    {
      "cell_type": "code",
      "source": [
        "# Combine cat and dog data\n",
        "X = np.concatenate([cat_images, dog_images])\n",
        "y = np.concatenate([cat_labels, dog_labels])"
      ],
      "metadata": {
        "id": "6J1F49onjajq"
      },
      "execution_count": 39,
      "outputs": []
    },
    {
      "cell_type": "code",
      "source": [
        "# Split data into training and testing sets\n",
        "X_train, X_test, y_train, y_test = train_test_split(X, y, test_size=0.2, random_state=42)"
      ],
      "metadata": {
        "id": "jx_azK4-jcNO"
      },
      "execution_count": 40,
      "outputs": []
    },
    {
      "cell_type": "code",
      "source": [
        "# Create an SVM model\n",
        "svm_model = make_pipeline(preprocessing.StandardScaler(), SVC(kernel='linear'))"
      ],
      "metadata": {
        "id": "tn1EYL0pjeuA"
      },
      "execution_count": 41,
      "outputs": []
    },
    {
      "cell_type": "code",
      "source": [
        "# Train the model\n",
        "svm_model.fit(X_train, y_train)"
      ],
      "metadata": {
        "colab": {
          "base_uri": "https://localhost:8080/",
          "height": 125
        },
        "id": "CtpJIGmejhhy",
        "outputId": "0b105a17-13a7-44fc-d729-8348258b0b21"
      },
      "execution_count": 42,
      "outputs": [
        {
          "output_type": "execute_result",
          "data": {
            "text/plain": [
              "Pipeline(steps=[('standardscaler', StandardScaler()),\n",
              "                ('svc', SVC(kernel='linear'))])"
            ],
            "text/html": [
              "<style>#sk-container-id-3 {color: black;background-color: white;}#sk-container-id-3 pre{padding: 0;}#sk-container-id-3 div.sk-toggleable {background-color: white;}#sk-container-id-3 label.sk-toggleable__label {cursor: pointer;display: block;width: 100%;margin-bottom: 0;padding: 0.3em;box-sizing: border-box;text-align: center;}#sk-container-id-3 label.sk-toggleable__label-arrow:before {content: \"▸\";float: left;margin-right: 0.25em;color: #696969;}#sk-container-id-3 label.sk-toggleable__label-arrow:hover:before {color: black;}#sk-container-id-3 div.sk-estimator:hover label.sk-toggleable__label-arrow:before {color: black;}#sk-container-id-3 div.sk-toggleable__content {max-height: 0;max-width: 0;overflow: hidden;text-align: left;background-color: #f0f8ff;}#sk-container-id-3 div.sk-toggleable__content pre {margin: 0.2em;color: black;border-radius: 0.25em;background-color: #f0f8ff;}#sk-container-id-3 input.sk-toggleable__control:checked~div.sk-toggleable__content {max-height: 200px;max-width: 100%;overflow: auto;}#sk-container-id-3 input.sk-toggleable__control:checked~label.sk-toggleable__label-arrow:before {content: \"▾\";}#sk-container-id-3 div.sk-estimator input.sk-toggleable__control:checked~label.sk-toggleable__label {background-color: #d4ebff;}#sk-container-id-3 div.sk-label input.sk-toggleable__control:checked~label.sk-toggleable__label {background-color: #d4ebff;}#sk-container-id-3 input.sk-hidden--visually {border: 0;clip: rect(1px 1px 1px 1px);clip: rect(1px, 1px, 1px, 1px);height: 1px;margin: -1px;overflow: hidden;padding: 0;position: absolute;width: 1px;}#sk-container-id-3 div.sk-estimator {font-family: monospace;background-color: #f0f8ff;border: 1px dotted black;border-radius: 0.25em;box-sizing: border-box;margin-bottom: 0.5em;}#sk-container-id-3 div.sk-estimator:hover {background-color: #d4ebff;}#sk-container-id-3 div.sk-parallel-item::after {content: \"\";width: 100%;border-bottom: 1px solid gray;flex-grow: 1;}#sk-container-id-3 div.sk-label:hover label.sk-toggleable__label {background-color: #d4ebff;}#sk-container-id-3 div.sk-serial::before {content: \"\";position: absolute;border-left: 1px solid gray;box-sizing: border-box;top: 0;bottom: 0;left: 50%;z-index: 0;}#sk-container-id-3 div.sk-serial {display: flex;flex-direction: column;align-items: center;background-color: white;padding-right: 0.2em;padding-left: 0.2em;position: relative;}#sk-container-id-3 div.sk-item {position: relative;z-index: 1;}#sk-container-id-3 div.sk-parallel {display: flex;align-items: stretch;justify-content: center;background-color: white;position: relative;}#sk-container-id-3 div.sk-item::before, #sk-container-id-3 div.sk-parallel-item::before {content: \"\";position: absolute;border-left: 1px solid gray;box-sizing: border-box;top: 0;bottom: 0;left: 50%;z-index: -1;}#sk-container-id-3 div.sk-parallel-item {display: flex;flex-direction: column;z-index: 1;position: relative;background-color: white;}#sk-container-id-3 div.sk-parallel-item:first-child::after {align-self: flex-end;width: 50%;}#sk-container-id-3 div.sk-parallel-item:last-child::after {align-self: flex-start;width: 50%;}#sk-container-id-3 div.sk-parallel-item:only-child::after {width: 0;}#sk-container-id-3 div.sk-dashed-wrapped {border: 1px dashed gray;margin: 0 0.4em 0.5em 0.4em;box-sizing: border-box;padding-bottom: 0.4em;background-color: white;}#sk-container-id-3 div.sk-label label {font-family: monospace;font-weight: bold;display: inline-block;line-height: 1.2em;}#sk-container-id-3 div.sk-label-container {text-align: center;}#sk-container-id-3 div.sk-container {/* jupyter's `normalize.less` sets `[hidden] { display: none; }` but bootstrap.min.css set `[hidden] { display: none !important; }` so we also need the `!important` here to be able to override the default hidden behavior on the sphinx rendered scikit-learn.org. See: https://github.com/scikit-learn/scikit-learn/issues/21755 */display: inline-block !important;position: relative;}#sk-container-id-3 div.sk-text-repr-fallback {display: none;}</style><div id=\"sk-container-id-3\" class=\"sk-top-container\"><div class=\"sk-text-repr-fallback\"><pre>Pipeline(steps=[(&#x27;standardscaler&#x27;, StandardScaler()),\n",
              "                (&#x27;svc&#x27;, SVC(kernel=&#x27;linear&#x27;))])</pre><b>In a Jupyter environment, please rerun this cell to show the HTML representation or trust the notebook. <br />On GitHub, the HTML representation is unable to render, please try loading this page with nbviewer.org.</b></div><div class=\"sk-container\" hidden><div class=\"sk-item sk-dashed-wrapped\"><div class=\"sk-label-container\"><div class=\"sk-label sk-toggleable\"><input class=\"sk-toggleable__control sk-hidden--visually\" id=\"sk-estimator-id-7\" type=\"checkbox\" ><label for=\"sk-estimator-id-7\" class=\"sk-toggleable__label sk-toggleable__label-arrow\">Pipeline</label><div class=\"sk-toggleable__content\"><pre>Pipeline(steps=[(&#x27;standardscaler&#x27;, StandardScaler()),\n",
              "                (&#x27;svc&#x27;, SVC(kernel=&#x27;linear&#x27;))])</pre></div></div></div><div class=\"sk-serial\"><div class=\"sk-item\"><div class=\"sk-estimator sk-toggleable\"><input class=\"sk-toggleable__control sk-hidden--visually\" id=\"sk-estimator-id-8\" type=\"checkbox\" ><label for=\"sk-estimator-id-8\" class=\"sk-toggleable__label sk-toggleable__label-arrow\">StandardScaler</label><div class=\"sk-toggleable__content\"><pre>StandardScaler()</pre></div></div></div><div class=\"sk-item\"><div class=\"sk-estimator sk-toggleable\"><input class=\"sk-toggleable__control sk-hidden--visually\" id=\"sk-estimator-id-9\" type=\"checkbox\" ><label for=\"sk-estimator-id-9\" class=\"sk-toggleable__label sk-toggleable__label-arrow\">SVC</label><div class=\"sk-toggleable__content\"><pre>SVC(kernel=&#x27;linear&#x27;)</pre></div></div></div></div></div></div></div>"
            ]
          },
          "metadata": {},
          "execution_count": 42
        }
      ]
    },
    {
      "cell_type": "code",
      "source": [
        "# Make predictions\n",
        "y_pred = svm_model.predict(X_test)"
      ],
      "metadata": {
        "id": "1tWZFN-SjkT0"
      },
      "execution_count": 43,
      "outputs": []
    },
    {
      "cell_type": "code",
      "source": [
        "# Calculate accuracy\n",
        "accuracy = accuracy_score(y_test, y_pred)\n",
        "print(f'Accuracy: {accuracy * 100:.2f}%')"
      ],
      "metadata": {
        "colab": {
          "base_uri": "https://localhost:8080/"
        },
        "id": "z59waUyyjoTs",
        "outputId": "9717076a-ac95-41c1-d90e-313d2dd6ddcb"
      },
      "execution_count": 44,
      "outputs": [
        {
          "output_type": "stream",
          "name": "stdout",
          "text": [
            "Accuracy: 60.71%\n"
          ]
        }
      ]
    }
  ]
}